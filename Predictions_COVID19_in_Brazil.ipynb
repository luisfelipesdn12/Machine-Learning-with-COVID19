{
  "nbformat": 4,
  "nbformat_minor": 0,
  "metadata": {
    "colab": {
      "name": "Predictions - COVID19 in Brazil",
      "provenance": [],
      "authorship_tag": "ABX9TyN2WqvNomOxWao3j2o7slT2",
      "include_colab_link": true
    },
    "kernelspec": {
      "name": "python3",
      "display_name": "Python 3"
    }
  },
  "cells": [
    {
      "cell_type": "markdown",
      "metadata": {
        "id": "view-in-github",
        "colab_type": "text"
      },
      "source": [
        "<a href=\"https://colab.research.google.com/github/luisfelipesdn12/Machine-Learning-with-COVID19/blob/master/Predictions_COVID19_in_Brazil.ipynb\" target=\"_parent\"><img src=\"https://colab.research.google.com/assets/colab-badge.svg\" alt=\"Open In Colab\"/></a>"
      ]
    },
    {
      "cell_type": "markdown",
      "metadata": {
        "id": "I8aY_MWwOth7",
        "colab_type": "text"
      },
      "source": [
        "# Pedição com dados sobre a pandemia de Sars-Cov-2 no Brasil\n",
        "> Prediction with data about Sars-Cov-2 Pandemy in Brazil"
      ]
    },
    {
      "cell_type": "code",
      "metadata": {
        "id": "9_ztY5L-2bUS",
        "colab_type": "code",
        "colab": {
          "base_uri": "https://localhost:8080/",
          "height": 35
        },
        "outputId": "e202eee7-0216-4ce9-b5c1-c5bba9d4f6c1"
      },
      "source": [
        "import __hello__"
      ],
      "execution_count": 1,
      "outputs": [
        {
          "output_type": "stream",
          "text": [
            "Hello world!\n"
          ],
          "name": "stdout"
        }
      ]
    },
    {
      "cell_type": "markdown",
      "metadata": {
        "id": "lkD1JjjZPgQY",
        "colab_type": "text"
      },
      "source": [
        "## Carregamento dos dados:\n",
        "> Data loading:"
      ]
    },
    {
      "cell_type": "markdown",
      "metadata": {
        "id": "EU2KnIRuh5Xf",
        "colab_type": "text"
      },
      "source": [
        "Primeiro de tudo, precisamos carregar os dados e tranformá-los em um `dataframe` manipulável.\n",
        "\n",
        "> First of all, is needed to load the data and transform it in a manipulable `dataframe`."
      ]
    },
    {
      "cell_type": "code",
      "metadata": {
        "id": "Kg9eZF0qLlAU",
        "colab_type": "code",
        "outputId": "1323b852-74b1-4d86-981e-3d2b82edf7e0",
        "colab": {
          "base_uri": "https://localhost:8080/",
          "height": 0
        }
      },
      "source": [
        "import pandas as pd\n",
        "\n",
        "#Fonte = 'https://www.kaggle.com/unanimad/corona-virus-brazil#brazil_covid19.csv'\n",
        "URI = '/content/brazil_covid19.csv'\n",
        "\n",
        "dados = pd.read_csv(URI)\n",
        "dados.head()"
      ],
      "execution_count": 2,
      "outputs": [
        {
          "output_type": "execute_result",
          "data": {
            "text/html": [
              "<div>\n",
              "<style scoped>\n",
              "    .dataframe tbody tr th:only-of-type {\n",
              "        vertical-align: middle;\n",
              "    }\n",
              "\n",
              "    .dataframe tbody tr th {\n",
              "        vertical-align: top;\n",
              "    }\n",
              "\n",
              "    .dataframe thead th {\n",
              "        text-align: right;\n",
              "    }\n",
              "</style>\n",
              "<table border=\"1\" class=\"dataframe\">\n",
              "  <thead>\n",
              "    <tr style=\"text-align: right;\">\n",
              "      <th></th>\n",
              "      <th>date</th>\n",
              "      <th>region</th>\n",
              "      <th>state</th>\n",
              "      <th>cases</th>\n",
              "      <th>deaths</th>\n",
              "    </tr>\n",
              "  </thead>\n",
              "  <tbody>\n",
              "    <tr>\n",
              "      <th>0</th>\n",
              "      <td>2020-01-30</td>\n",
              "      <td>Centro-Oeste</td>\n",
              "      <td>Distrito Federal</td>\n",
              "      <td>0</td>\n",
              "      <td>0</td>\n",
              "    </tr>\n",
              "    <tr>\n",
              "      <th>1</th>\n",
              "      <td>2020-01-30</td>\n",
              "      <td>Centro-Oeste</td>\n",
              "      <td>Goiás</td>\n",
              "      <td>0</td>\n",
              "      <td>0</td>\n",
              "    </tr>\n",
              "    <tr>\n",
              "      <th>2</th>\n",
              "      <td>2020-01-30</td>\n",
              "      <td>Centro-Oeste</td>\n",
              "      <td>Mato Grosso</td>\n",
              "      <td>0</td>\n",
              "      <td>0</td>\n",
              "    </tr>\n",
              "    <tr>\n",
              "      <th>3</th>\n",
              "      <td>2020-01-30</td>\n",
              "      <td>Centro-Oeste</td>\n",
              "      <td>Mato Grosso do Sul</td>\n",
              "      <td>0</td>\n",
              "      <td>0</td>\n",
              "    </tr>\n",
              "    <tr>\n",
              "      <th>4</th>\n",
              "      <td>2020-01-30</td>\n",
              "      <td>Nordeste</td>\n",
              "      <td>Alagoas</td>\n",
              "      <td>0</td>\n",
              "      <td>0</td>\n",
              "    </tr>\n",
              "  </tbody>\n",
              "</table>\n",
              "</div>"
            ],
            "text/plain": [
              "         date        region               state  cases  deaths\n",
              "0  2020-01-30  Centro-Oeste    Distrito Federal      0       0\n",
              "1  2020-01-30  Centro-Oeste               Goiás      0       0\n",
              "2  2020-01-30  Centro-Oeste         Mato Grosso      0       0\n",
              "3  2020-01-30  Centro-Oeste  Mato Grosso do Sul      0       0\n",
              "4  2020-01-30      Nordeste             Alagoas      0       0"
            ]
          },
          "metadata": {
            "tags": []
          },
          "execution_count": 2
        }
      ]
    },
    {
      "cell_type": "code",
      "metadata": {
        "id": "wFA7HVmmL9Dn",
        "colab_type": "code",
        "outputId": "9aecf435-ba19-481e-8071-c886ecd636d6",
        "colab": {
          "base_uri": "https://localhost:8080/",
          "height": 0
        }
      },
      "source": [
        "dados.describe()"
      ],
      "execution_count": 3,
      "outputs": [
        {
          "output_type": "execute_result",
          "data": {
            "text/html": [
              "<div>\n",
              "<style scoped>\n",
              "    .dataframe tbody tr th:only-of-type {\n",
              "        vertical-align: middle;\n",
              "    }\n",
              "\n",
              "    .dataframe tbody tr th {\n",
              "        vertical-align: top;\n",
              "    }\n",
              "\n",
              "    .dataframe thead th {\n",
              "        text-align: right;\n",
              "    }\n",
              "</style>\n",
              "<table border=\"1\" class=\"dataframe\">\n",
              "  <thead>\n",
              "    <tr style=\"text-align: right;\">\n",
              "      <th></th>\n",
              "      <th>cases</th>\n",
              "      <th>deaths</th>\n",
              "    </tr>\n",
              "  </thead>\n",
              "  <tbody>\n",
              "    <tr>\n",
              "      <th>count</th>\n",
              "      <td>2322.000000</td>\n",
              "      <td>2322.000000</td>\n",
              "    </tr>\n",
              "    <tr>\n",
              "      <th>mean</th>\n",
              "      <td>281.105082</td>\n",
              "      <td>16.294574</td>\n",
              "    </tr>\n",
              "    <tr>\n",
              "      <th>std</th>\n",
              "      <td>1196.433718</td>\n",
              "      <td>87.372534</td>\n",
              "    </tr>\n",
              "    <tr>\n",
              "      <th>min</th>\n",
              "      <td>0.000000</td>\n",
              "      <td>0.000000</td>\n",
              "    </tr>\n",
              "    <tr>\n",
              "      <th>25%</th>\n",
              "      <td>0.000000</td>\n",
              "      <td>0.000000</td>\n",
              "    </tr>\n",
              "    <tr>\n",
              "      <th>50%</th>\n",
              "      <td>0.000000</td>\n",
              "      <td>0.000000</td>\n",
              "    </tr>\n",
              "    <tr>\n",
              "      <th>75%</th>\n",
              "      <td>87.750000</td>\n",
              "      <td>2.000000</td>\n",
              "    </tr>\n",
              "    <tr>\n",
              "      <th>max</th>\n",
              "      <td>17826.000000</td>\n",
              "      <td>1512.000000</td>\n",
              "    </tr>\n",
              "  </tbody>\n",
              "</table>\n",
              "</div>"
            ],
            "text/plain": [
              "              cases       deaths\n",
              "count   2322.000000  2322.000000\n",
              "mean     281.105082    16.294574\n",
              "std     1196.433718    87.372534\n",
              "min        0.000000     0.000000\n",
              "25%        0.000000     0.000000\n",
              "50%        0.000000     0.000000\n",
              "75%       87.750000     2.000000\n",
              "max    17826.000000  1512.000000"
            ]
          },
          "metadata": {
            "tags": []
          },
          "execution_count": 3
        }
      ]
    },
    {
      "cell_type": "code",
      "metadata": {
        "id": "jglr2ilJNB_r",
        "colab_type": "code",
        "outputId": "1bf6bbf7-dfc3-4b62-d597-26bba7275617",
        "colab": {
          "base_uri": "https://localhost:8080/",
          "height": 0
        }
      },
      "source": [
        " for column in dados.columns.values:\n",
        "  print(f'\\n{\"=\"*5} {column} {\"=\"*5}\\n')\n",
        "  print(dados[column].describe())"
      ],
      "execution_count": 4,
      "outputs": [
        {
          "output_type": "stream",
          "text": [
            "\n",
            "===== date =====\n",
            "\n",
            "count           2322\n",
            "unique            86\n",
            "top       2020-03-06\n",
            "freq              27\n",
            "Name: date, dtype: object\n",
            "\n",
            "===== region =====\n",
            "\n",
            "count         2322\n",
            "unique           5\n",
            "top       Nordeste\n",
            "freq           774\n",
            "Name: region, dtype: object\n",
            "\n",
            "===== state =====\n",
            "\n",
            "count        2322\n",
            "unique         27\n",
            "top       Alagoas\n",
            "freq           86\n",
            "Name: state, dtype: object\n",
            "\n",
            "===== cases =====\n",
            "\n",
            "count     2322.000000\n",
            "mean       281.105082\n",
            "std       1196.433718\n",
            "min          0.000000\n",
            "25%          0.000000\n",
            "50%          0.000000\n",
            "75%         87.750000\n",
            "max      17826.000000\n",
            "Name: cases, dtype: float64\n",
            "\n",
            "===== deaths =====\n",
            "\n",
            "count    2322.000000\n",
            "mean       16.294574\n",
            "std        87.372534\n",
            "min         0.000000\n",
            "25%         0.000000\n",
            "50%         0.000000\n",
            "75%         2.000000\n",
            "max      1512.000000\n",
            "Name: deaths, dtype: float64\n"
          ],
          "name": "stdout"
        }
      ]
    },
    {
      "cell_type": "markdown",
      "metadata": {
        "id": "AcAA6r2xOpyV",
        "colab_type": "text"
      },
      "source": [
        "## Predição da região:\n",
        "> Region Prediction:\n",
        "\n",
        "Meu objetivo primário é treinar um modelo de machine learning capaz de predizer a região do Brasil baseado no numero de casos e mortes reportados.\n",
        "> My primary goal is to train a machine learning model able to predict the region of Brazil based on number of cases and deaths reported."
      ]
    },
    {
      "cell_type": "markdown",
      "metadata": {
        "id": "p9Wj5iIaPpXv",
        "colab_type": "text"
      },
      "source": [
        "### \"Limpesa\" dos dados:\n",
        "> Data clean:"
      ]
    },
    {
      "cell_type": "markdown",
      "metadata": {
        "id": "m-iZfbeX69kN",
        "colab_type": "text"
      },
      "source": [
        "Primeiramente, separaremos os dados que vamos fornecer para a máquina (`x`) e os dados que queremos que ela nos devolda (`y`).\n",
        "\n",
        "Nesse caso, o `x` seriam as colunas de `casos` e `mortes`.\n",
        "\n",
        "> First, We'll to separate the data used to provide to the machine (`x`) and the data we want the it returns.\n",
        ">\n",
        "> In case, the `x` would be the columns `cases` and `deaths`."
      ]
    },
    {
      "cell_type": "code",
      "metadata": {
        "id": "dsrIwav9S9Ce",
        "colab_type": "code",
        "outputId": "4120e706-9d99-4264-9395-5a9e604ee185",
        "colab": {
          "base_uri": "https://localhost:8080/",
          "height": 0
        }
      },
      "source": [
        "x_regiao = dados[['cases', 'deaths']]\n",
        "print(x_regiao.describe())\n",
        "x_regiao.sample(5)"
      ],
      "execution_count": 5,
      "outputs": [
        {
          "output_type": "stream",
          "text": [
            "              cases       deaths\n",
            "count   2322.000000  2322.000000\n",
            "mean     281.105082    16.294574\n",
            "std     1196.433718    87.372534\n",
            "min        0.000000     0.000000\n",
            "25%        0.000000     0.000000\n",
            "50%        0.000000     0.000000\n",
            "75%       87.750000     2.000000\n",
            "max    17826.000000  1512.000000\n"
          ],
          "name": "stdout"
        },
        {
          "output_type": "execute_result",
          "data": {
            "text/html": [
              "<div>\n",
              "<style scoped>\n",
              "    .dataframe tbody tr th:only-of-type {\n",
              "        vertical-align: middle;\n",
              "    }\n",
              "\n",
              "    .dataframe tbody tr th {\n",
              "        vertical-align: top;\n",
              "    }\n",
              "\n",
              "    .dataframe thead th {\n",
              "        text-align: right;\n",
              "    }\n",
              "</style>\n",
              "<table border=\"1\" class=\"dataframe\">\n",
              "  <thead>\n",
              "    <tr style=\"text-align: right;\">\n",
              "      <th></th>\n",
              "      <th>cases</th>\n",
              "      <th>deaths</th>\n",
              "    </tr>\n",
              "  </thead>\n",
              "  <tbody>\n",
              "    <tr>\n",
              "      <th>352</th>\n",
              "      <td>0</td>\n",
              "      <td>0</td>\n",
              "    </tr>\n",
              "    <tr>\n",
              "      <th>841</th>\n",
              "      <td>0</td>\n",
              "      <td>0</td>\n",
              "    </tr>\n",
              "    <tr>\n",
              "      <th>1023</th>\n",
              "      <td>0</td>\n",
              "      <td>0</td>\n",
              "    </tr>\n",
              "    <tr>\n",
              "      <th>1824</th>\n",
              "      <td>532</td>\n",
              "      <td>19</td>\n",
              "    </tr>\n",
              "    <tr>\n",
              "      <th>390</th>\n",
              "      <td>0</td>\n",
              "      <td>0</td>\n",
              "    </tr>\n",
              "  </tbody>\n",
              "</table>\n",
              "</div>"
            ],
            "text/plain": [
              "      cases  deaths\n",
              "352       0       0\n",
              "841       0       0\n",
              "1023      0       0\n",
              "1824    532      19\n",
              "390       0       0"
            ]
          },
          "metadata": {
            "tags": []
          },
          "execution_count": 5
        }
      ]
    },
    {
      "cell_type": "markdown",
      "metadata": {
        "id": "8ATjlmvM8rup",
        "colab_type": "text"
      },
      "source": [
        "E o `y`, a coluna `região`.\n",
        "> And the `y` the `region` column."
      ]
    },
    {
      "cell_type": "code",
      "metadata": {
        "id": "6R_TBNRwTYfn",
        "colab_type": "code",
        "outputId": "c51877eb-221a-44f0-b6b8-8688fd69b26a",
        "colab": {
          "base_uri": "https://localhost:8080/",
          "height": 0
        }
      },
      "source": [
        "y_regiao = dados['region']\n",
        "print(y_regiao.describe())\n",
        "y_regiao.sample(5)"
      ],
      "execution_count": 6,
      "outputs": [
        {
          "output_type": "stream",
          "text": [
            "count         2322\n",
            "unique           5\n",
            "top       Nordeste\n",
            "freq           774\n",
            "Name: region, dtype: object\n"
          ],
          "name": "stdout"
        },
        {
          "output_type": "execute_result",
          "data": {
            "text/plain": [
              "814         Nordeste\n",
              "1932           Norte\n",
              "1809    Centro-Oeste\n",
              "2007        Nordeste\n",
              "1128         Sudeste\n",
              "Name: region, dtype: object"
            ]
          },
          "metadata": {
            "tags": []
          },
          "execution_count": 6
        }
      ]
    },
    {
      "cell_type": "markdown",
      "metadata": {
        "id": "JSQfDy6y833V",
        "colab_type": "text"
      },
      "source": [
        "Ok, separamos os dados, mas ainda temos todos os dados de uma vez, o que não nos permitiria testar o modelos com novos dados que ele nunca viu. Então esse é o próximo passo: separar os dados de `x` e `y` em `teste` e `treino`.\n",
        "> Allright, we've separated the data, but we still have all of them at once, what would not allow us to test the model with data that it never seen before. So this is the next step: separate the data of `x` and `y` in `test` and `train`."
      ]
    },
    {
      "cell_type": "code",
      "metadata": {
        "id": "SCdirkNZTm-N",
        "colab_type": "code",
        "outputId": "3d162e59-9033-437d-e3ea-64dcf1b3b9f0",
        "colab": {
          "base_uri": "https://localhost:8080/",
          "height": 0
        }
      },
      "source": [
        "from sklearn.model_selection import train_test_split\n",
        "import numpy as np\n",
        "\n",
        "np.random.seed(3141592)\n",
        "\n",
        "x_regiao_treino, x_regiao_teste, y_regiao_treino, y_regiao_teste = train_test_split(x_regiao, y_regiao)\n",
        "\n",
        "print(x_regiao_treino.shape)\n",
        "print(x_regiao_teste.shape)\n",
        "print(y_regiao_treino.shape)\n",
        "print(y_regiao_teste.shape)"
      ],
      "execution_count": 7,
      "outputs": [
        {
          "output_type": "stream",
          "text": [
            "(1741, 2)\n",
            "(581, 2)\n",
            "(1741,)\n",
            "(581,)\n"
          ],
          "name": "stdout"
        }
      ]
    },
    {
      "cell_type": "markdown",
      "metadata": {
        "id": "ftJ8RSF3asw1",
        "colab_type": "text"
      },
      "source": [
        "### Treinamento do modelo:\n",
        "> Training of the model:"
      ]
    },
    {
      "cell_type": "markdown",
      "metadata": {
        "id": "ZXH_F1Jb-NHr",
        "colab_type": "text"
      },
      "source": [
        "Para treinar o modelo ultilizarei um algorítimo de classificação chamado `DecisionTreeClassifier`.\n",
        "> To training the model I'll use a classificator algorithm called `DecisionTreeClassifier`."
      ]
    },
    {
      "cell_type": "code",
      "metadata": {
        "id": "EVNhnFWXUF18",
        "colab_type": "code",
        "outputId": "7d97eb9e-ad86-4b79-f7c5-d0de59029139",
        "colab": {
          "base_uri": "https://localhost:8080/",
          "height": 0
        }
      },
      "source": [
        "# training:\n",
        "from sklearn.tree import DecisionTreeClassifier\n",
        "\n",
        "modelo_regiao = DecisionTreeClassifier()\n",
        "modelo_regiao.fit(x_regiao_treino, y_regiao_treino)"
      ],
      "execution_count": 8,
      "outputs": [
        {
          "output_type": "execute_result",
          "data": {
            "text/plain": [
              "DecisionTreeClassifier(ccp_alpha=0.0, class_weight=None, criterion='gini',\n",
              "                       max_depth=None, max_features=None, max_leaf_nodes=None,\n",
              "                       min_impurity_decrease=0.0, min_impurity_split=None,\n",
              "                       min_samples_leaf=1, min_samples_split=2,\n",
              "                       min_weight_fraction_leaf=0.0, presort='deprecated',\n",
              "                       random_state=None, splitter='best')"
            ]
          },
          "metadata": {
            "tags": []
          },
          "execution_count": 8
        }
      ]
    },
    {
      "cell_type": "markdown",
      "metadata": {
        "id": "r05bJr25-xAt",
        "colab_type": "text"
      },
      "source": [
        "Uma vez treinado, vamos fazer um pequeno teste, para termos uma noção de que aparentemente deu certo.\n",
        "> Once trained, we'll do a little test, to have an idea that apparently it worked. "
      ]
    },
    {
      "cell_type": "code",
      "metadata": {
        "id": "pWUANi-xU8Hn",
        "colab_type": "code",
        "outputId": "31aea97d-56aa-48c4-e6d2-ac516bf9ff1e",
        "colab": {
          "base_uri": "https://localhost:8080/",
          "height": 0
        }
      },
      "source": [
        "predicao_regiao = modelo_regiao.predict(x_regiao_teste)\n",
        "predicao_regiao[:5]"
      ],
      "execution_count": 9,
      "outputs": [
        {
          "output_type": "execute_result",
          "data": {
            "text/plain": [
              "array(['Nordeste', 'Sul', 'Nordeste', 'Nordeste', 'Nordeste'],\n",
              "      dtype=object)"
            ]
          },
          "metadata": {
            "tags": []
          },
          "execution_count": 9
        }
      ]
    },
    {
      "cell_type": "code",
      "metadata": {
        "id": "LcoOR0EvVY9p",
        "colab_type": "code",
        "outputId": "5bb35388-1c30-41ff-eba8-c97e2fc5cdf9",
        "colab": {
          "base_uri": "https://localhost:8080/",
          "height": 0
        }
      },
      "source": [
        "y_regiao_teste.to_numpy()[:5]"
      ],
      "execution_count": 10,
      "outputs": [
        {
          "output_type": "execute_result",
          "data": {
            "text/plain": [
              "array(['Sul', 'Sul', 'Nordeste', 'Nordeste', 'Nordeste'], dtype=object)"
            ]
          },
          "metadata": {
            "tags": []
          },
          "execution_count": 10
        }
      ]
    },
    {
      "cell_type": "markdown",
      "metadata": {
        "id": "yHy4ubkY_iOE",
        "colab_type": "text"
      },
      "source": [
        "Nessa pequena amostra dos 5 primeiros itens, vemos que o modelo só errou o primeiro, mas não podemos tirar conclusões precisas antes de ir para o próximo passo:\n",
        "> In this little sample of the first 5 itens, we see that the model did just one mistake, but we can't take accurated conclusions before we go to the next step:"
      ]
    },
    {
      "cell_type": "markdown",
      "metadata": {
        "id": "cwh5PUtya-OX",
        "colab_type": "text"
      },
      "source": [
        "### Testando o modelo:\n",
        "> Testing the model:"
      ]
    },
    {
      "cell_type": "markdown",
      "metadata": {
        "id": "41NkiDV9A4t7",
        "colab_type": "text"
      },
      "source": [
        "A biblioteca `sklearn` nos permite testar o modelo a partir de `métricas`. Fiz uma função que testa duas delas: `classification_report` e `accuracy_score`.\n",
        "\n",
        "Para saber mais sobre as métricas do sklearn, [clique aqui](https://scikit-learn.org/stable/modules/classes.html#module-sklearn.metrics).\n",
        "\n",
        "> The `sklearn` library allow us to test the model from `metrics`. I made a function who test two of them: `classification_report` and `accuracy_score`.\n",
        ">\n",
        "> To know more of sklearn metrics, [click here](https://scikit-learn.org/stable/modules/classes.html#module-sklearn.metrics)."
      ]
    },
    {
      "cell_type": "code",
      "metadata": {
        "id": "6fW1Bb0FVeog",
        "colab_type": "code",
        "colab": {}
      },
      "source": [
        "from sklearn.metrics import classification_report, accuracy_score\n",
        "\n",
        "def metricas_diversas(y_teste, predicao):\n",
        "  for metric in [classification_report, accuracy_score]:\n",
        "    metric_name = str(metric)[(str(metric).find('n ') + 2):(str(metric).find(' at '))]\n",
        "    print(f'{\"=\"*5} {metric_name} {\"=\"*5}')\n",
        "    print(metric(y_teste, predicao))"
      ],
      "execution_count": 0,
      "outputs": []
    },
    {
      "cell_type": "code",
      "metadata": {
        "id": "494tFjQ_aI6g",
        "colab_type": "code",
        "outputId": "e60498ed-2c09-4c67-a71d-1b9764c0ec0c",
        "colab": {
          "base_uri": "https://localhost:8080/",
          "height": 0
        }
      },
      "source": [
        "metricas_diversas(y_teste=y_regiao_teste, predicao=predicao_regiao)"
      ],
      "execution_count": 12,
      "outputs": [
        {
          "output_type": "stream",
          "text": [
            "===== classification_report =====\n",
            "              precision    recall  f1-score   support\n",
            "\n",
            "Centro-Oeste       0.50      0.20      0.29        89\n",
            "    Nordeste       0.35      0.74      0.47       183\n",
            "       Norte       0.44      0.18      0.25       162\n",
            "     Sudeste       0.25      0.15      0.19        86\n",
            "         Sul       0.36      0.20      0.26        61\n",
            "\n",
            "    accuracy                           0.36       581\n",
            "   macro avg       0.38      0.29      0.29       581\n",
            "weighted avg       0.38      0.36      0.32       581\n",
            "\n",
            "===== accuracy_score =====\n",
            "0.35800344234079173\n"
          ],
          "name": "stdout"
        }
      ]
    },
    {
      "cell_type": "code",
      "metadata": {
        "id": "aWqEE1OZV-mR",
        "colab_type": "code",
        "outputId": "a9e76654-52bc-4e08-d6cd-414e24e9dc73",
        "colab": {
          "base_uri": "https://localhost:8080/",
          "height": 0
        }
      },
      "source": [
        "from sklearn.dummy import DummyClassifier\n",
        "\n",
        "modelo_regiao_dummy = DummyClassifier()\n",
        "modelo_regiao_dummy.fit(x_regiao_treino, y_regiao_treino)\n",
        "dummy_predicoes_regiao = modelo_regiao_dummy.predict(x_regiao_teste)"
      ],
      "execution_count": 13,
      "outputs": [
        {
          "output_type": "stream",
          "text": [
            "/usr/local/lib/python3.6/dist-packages/sklearn/dummy.py:132: FutureWarning: The default value of strategy will change from stratified to prior in 0.24.\n",
            "  \"stratified to prior in 0.24.\", FutureWarning)\n"
          ],
          "name": "stderr"
        }
      ]
    },
    {
      "cell_type": "code",
      "metadata": {
        "id": "wGeKr7IZXEW0",
        "colab_type": "code",
        "outputId": "353ba3c1-060a-45a2-f237-455d524c31e2",
        "colab": {
          "base_uri": "https://localhost:8080/",
          "height": 0
        }
      },
      "source": [
        "metricas_diversas(y_teste=y_regiao_teste, predicao=dummy_predicoes_regiao)"
      ],
      "execution_count": 14,
      "outputs": [
        {
          "output_type": "stream",
          "text": [
            "===== classification_report =====\n",
            "              precision    recall  f1-score   support\n",
            "\n",
            "Centro-Oeste       0.12      0.11      0.12        89\n",
            "    Nordeste       0.32      0.36      0.34       183\n",
            "       Norte       0.26      0.23      0.25       162\n",
            "     Sudeste       0.17      0.16      0.16        86\n",
            "         Sul       0.12      0.13      0.13        61\n",
            "\n",
            "    accuracy                           0.23       581\n",
            "   macro avg       0.20      0.20      0.20       581\n",
            "weighted avg       0.23      0.23      0.23       581\n",
            "\n",
            "===== accuracy_score =====\n",
            "0.23407917383820998\n"
          ],
          "name": "stdout"
        }
      ]
    },
    {
      "cell_type": "code",
      "metadata": {
        "id": "iI8I8E6D5Vc-",
        "colab_type": "code",
        "colab": {
          "base_uri": "https://localhost:8080/",
          "height": 0
        },
        "outputId": "622c8144-678a-4a83-c0e8-bf7b6e9b576f"
      },
      "source": [
        "import statistics as stt\n",
        "\n",
        "x_regiao_teste_colunas_separadas = [x_regiao_teste[coluna].to_list() for coluna in ['cases', 'deaths']]\n",
        "\n",
        "x_regiao_teste_medias = list()\n",
        "\n",
        "for c in range(len(x_regiao_teste_colunas_separadas[0])):\n",
        "  media = stt.mean([\n",
        "    x_regiao_teste_colunas_separadas[0][c],\n",
        "    x_regiao_teste_colunas_separadas[1][c]\n",
        "  ])\n",
        "  x_regiao_teste_medias.append(media)\n",
        "\n",
        "x_regiao_teste_medias[:5]"
      ],
      "execution_count": 15,
      "outputs": [
        {
          "output_type": "execute_result",
          "data": {
            "text/plain": [
              "[0, 560, 0, 16, 45.5]"
            ]
          },
          "metadata": {
            "tags": []
          },
          "execution_count": 15
        }
      ]
    },
    {
      "cell_type": "code",
      "metadata": {
        "id": "VwuvllE7LJ-V",
        "colab_type": "code",
        "colab": {
          "base_uri": "https://localhost:8080/",
          "height": 0
        },
        "outputId": "186b94f1-4e70-4af8-c25c-730bd45bba7e"
      },
      "source": [
        "import matplotlib.pyplot as plt\n",
        "import seaborn as sns\n",
        "\n",
        "plt.figure(figsize=(18,6))\n",
        "plt.grid(True)\n",
        "plt.ylabel('Regiões')\n",
        "plt.xlabel('Média entre casos e mortes')\n",
        "\n",
        "sns.scatterplot(x=x_regiao_teste_medias, y=predicao_regiao,)\n",
        "sns.scatterplot(x=x_regiao_teste_medias, y=y_regiao_teste.values)\n",
        "plt.legend(loc='upper right', labels=['Dados reais', 'Previsões'])\n",
        "plt.show()"
      ],
      "execution_count": 16,
      "outputs": [
        {
          "output_type": "stream",
          "text": [
            "/usr/local/lib/python3.6/dist-packages/statsmodels/tools/_testing.py:19: FutureWarning: pandas.util.testing is deprecated. Use the functions in the public API at pandas.testing instead.\n",
            "  import pandas.util.testing as tm\n"
          ],
          "name": "stderr"
        },
        {
          "output_type": "display_data",
          "data": {
            "image/png": "[encoded data removed]",
            "text/plain": [
              "<Figure size 1296x432 with 1 Axes>"
            ]
          },
          "metadata": {
            "tags": [],
            "needs_background": "light"
          }
        }
      ]
    },
    {
      "cell_type": "markdown",
      "metadata": {
        "id": "9DfcHw8FCMGT",
        "colab_type": "text"
      },
      "source": [
        "Vemos que nosso modelo não é tão bom. Mas talvez não seja apenas por causa dele em sí, pode ser que as variáveis de casos e mortes reportadas não tenham uma correlação tão grande com a região como esperávamos. \n",
        "\n",
        "Podemos tentar outra abordagem: fazer uma classificação binária a partir de dados dos casos e mortes mas tendo como `y` uma coluna binária que nos diz apenas se a região é ou não é do Sudeste, visto que parecem ter uma correlação mais constante uma vez que a densidade demográfica do Sudeste é bem maior que a das demais regiões.\n",
        "\n",
        "> We see that our model is not so good. But maybe it don't is the only guilty, maybe the variables of cases and deaths reported don't have a correlation with the region as we expected.\n",
        ">\n",
        "> We can try a new approach: do a binary classification from data of cases and deaths but having the `y` as a binar column who tell us if a region is or not the southeast, seeing that the demographic density of southeast is much bigger than the that of the other regions."
      ]
    },
    {
      "cell_type": "markdown",
      "metadata": {
        "colab_type": "text",
        "id": "p5EdYDndjA7c"
      },
      "source": [
        "## Predição da região binária:\n",
        "> Binary region prediction:\n",
        "\n",
        "Agora, veremos como se comportará um modelo treinado para classificar bináriamente como `Sudeste` ou `Não Sudestes`"
      ]
    },
    {
      "cell_type": "markdown",
      "metadata": {
        "colab_type": "text",
        "id": "gUmQ9WnxjA7t"
      },
      "source": [
        "### \"Limpesa\" dos dados:\n",
        "> Data clean:"
      ]
    },
    {
      "cell_type": "markdown",
      "metadata": {
        "id": "ZWZ3nJe8THTC",
        "colab_type": "text"
      },
      "source": [
        "A primeira coisa a fazer é substituir a coluna `region` por uma coluna `is_southeast` com valores binários de `True` para sudeste e `False` para demais regiões.\n",
        "> The first thing to do is replace the `region` columns for a `is_southeast` column with binary values of `True` to southeast and `False` to the others regions."
      ]
    },
    {
      "cell_type": "code",
      "metadata": {
        "id": "r7pQ5xDtnP_6",
        "colab_type": "code",
        "outputId": "5b56bbc7-a772-4f54-deb4-7bf78fc76e06",
        "colab": {
          "base_uri": "https://localhost:8080/",
          "height": 206
        }
      },
      "source": [
        "valores_unicos_coluna_regiao = list(dados['region'].unique())\n",
        "\n",
        "replace_dict = dict()\n",
        "\n",
        "for valor in valores_unicos_coluna_regiao:\n",
        "  if valor == 'Sudeste': replace_dict[valor] = True\n",
        "  else: replace_dict[valor] = False\n",
        "\n",
        "dados_sudeste_binario = dados.replace(to_replace=replace_dict)\n",
        "dados_sudeste_binario.rename(columns={\"region\": \"is_southeast\"}, inplace=True)\n",
        "dados_sudeste_binario.sample(5)"
      ],
      "execution_count": 30,
      "outputs": [
        {
          "output_type": "execute_result",
          "data": {
            "text/html": [
              "<div>\n",
              "<style scoped>\n",
              "    .dataframe tbody tr th:only-of-type {\n",
              "        vertical-align: middle;\n",
              "    }\n",
              "\n",
              "    .dataframe tbody tr th {\n",
              "        vertical-align: top;\n",
              "    }\n",
              "\n",
              "    .dataframe thead th {\n",
              "        text-align: right;\n",
              "    }\n",
              "</style>\n",
              "<table border=\"1\" class=\"dataframe\">\n",
              "  <thead>\n",
              "    <tr style=\"text-align: right;\">\n",
              "      <th></th>\n",
              "      <th>date</th>\n",
              "      <th>is_southeast</th>\n",
              "      <th>state</th>\n",
              "      <th>cases</th>\n",
              "      <th>deaths</th>\n",
              "    </tr>\n",
              "  </thead>\n",
              "  <tbody>\n",
              "    <tr>\n",
              "      <th>2126</th>\n",
              "      <td>2020-04-17</td>\n",
              "      <td>True</td>\n",
              "      <td>Espírito Santo</td>\n",
              "      <td>856</td>\n",
              "      <td>25</td>\n",
              "    </tr>\n",
              "    <tr>\n",
              "      <th>1994</th>\n",
              "      <td>2020-04-12</td>\n",
              "      <td>True</td>\n",
              "      <td>São Paulo</td>\n",
              "      <td>8755</td>\n",
              "      <td>588</td>\n",
              "    </tr>\n",
              "    <tr>\n",
              "      <th>389</th>\n",
              "      <td>2020-02-13</td>\n",
              "      <td>False</td>\n",
              "      <td>Rio Grande do Norte</td>\n",
              "      <td>0</td>\n",
              "      <td>0</td>\n",
              "    </tr>\n",
              "    <tr>\n",
              "      <th>1789</th>\n",
              "      <td>2020-04-05</td>\n",
              "      <td>False</td>\n",
              "      <td>Maranhão</td>\n",
              "      <td>96</td>\n",
              "      <td>2</td>\n",
              "    </tr>\n",
              "    <tr>\n",
              "      <th>2043</th>\n",
              "      <td>2020-04-14</td>\n",
              "      <td>False</td>\n",
              "      <td>Roraima</td>\n",
              "      <td>113</td>\n",
              "      <td>3</td>\n",
              "    </tr>\n",
              "  </tbody>\n",
              "</table>\n",
              "</div>"
            ],
            "text/plain": [
              "            date  is_southeast                state  cases  deaths\n",
              "2126  2020-04-17          True       Espírito Santo    856      25\n",
              "1994  2020-04-12          True            São Paulo   8755     588\n",
              "389   2020-02-13         False  Rio Grande do Norte      0       0\n",
              "1789  2020-04-05         False             Maranhão     96       2\n",
              "2043  2020-04-14         False              Roraima    113       3"
            ]
          },
          "metadata": {
            "tags": []
          },
          "execution_count": 30
        }
      ]
    },
    {
      "cell_type": "code",
      "metadata": {
        "id": "qc50fskmqNcF",
        "colab_type": "code",
        "outputId": "b873bec8-4b70-4c9e-a76f-5d0e600225af",
        "colab": {
          "base_uri": "https://localhost:8080/",
          "height": 605
        }
      },
      "source": [
        "x_sudeste_binario = dados_sudeste_binario[['cases', 'deaths']]\n",
        "y_sudeste_binario = dados_sudeste_binario['is_southeast']\n",
        "\n",
        "\n",
        "for i in [x_sudeste_binario, y_sudeste_binario]:\n",
        "  print(f'\\n{\"=\"*10}\\n')\n",
        "  print(i.describe())\n",
        "  print(i.sample(5))"
      ],
      "execution_count": 31,
      "outputs": [
        {
          "output_type": "stream",
          "text": [
            "\n",
            "==========\n",
            "\n",
            "              cases       deaths\n",
            "count   2322.000000  2322.000000\n",
            "mean     281.105082    16.294574\n",
            "std     1196.433718    87.372534\n",
            "min        0.000000     0.000000\n",
            "25%        0.000000     0.000000\n",
            "50%        0.000000     0.000000\n",
            "75%       87.750000     2.000000\n",
            "max    17826.000000  1512.000000\n",
            "      cases  deaths\n",
            "1454    745      30\n",
            "1569     31       0\n",
            "1625    176       1\n",
            "1172      1       0\n",
            "318       0       0\n",
            "\n",
            "==========\n",
            "\n",
            "count      2322\n",
            "unique        2\n",
            "top       False\n",
            "freq       1978\n",
            "Name: is_southeast, dtype: object\n",
            "590      True\n",
            "973     False\n",
            "1739    False\n",
            "1861    False\n",
            "597     False\n",
            "Name: is_southeast, dtype: bool\n"
          ],
          "name": "stdout"
        }
      ]
    },
    {
      "cell_type": "code",
      "metadata": {
        "id": "ps_WGI4dr-j5",
        "colab_type": "code",
        "outputId": "857e790d-2b55-4a66-e021-07678691200b",
        "colab": {
          "base_uri": "https://localhost:8080/",
          "height": 90
        }
      },
      "source": [
        "np.random.seed(3141592)\n",
        "\n",
        "x_sudeste_binario_treino, x_sudeste_binario_teste, y_sudeste_binario_treino, y_sudeste_binario_teste = train_test_split(x_sudeste_binario, y_sudeste_binario)\n",
        "\n",
        "print(x_sudeste_binario_treino.shape)\n",
        "print(x_sudeste_binario_teste.shape)\n",
        "print(y_sudeste_binario_treino.shape)\n",
        "print(y_sudeste_binario_teste.shape)"
      ],
      "execution_count": 19,
      "outputs": [
        {
          "output_type": "stream",
          "text": [
            "(1741, 2)\n",
            "(581, 2)\n",
            "(1741,)\n",
            "(581,)\n"
          ],
          "name": "stdout"
        }
      ]
    },
    {
      "cell_type": "markdown",
      "metadata": {
        "colab_type": "text",
        "id": "s8hLcrKXjA8x"
      },
      "source": [
        "### Treinamento do modelo:\n",
        "> Training of the model:"
      ]
    },
    {
      "cell_type": "code",
      "metadata": {
        "id": "V7f-lNqdvRKb",
        "colab_type": "code",
        "outputId": "bec8ac4b-a3bd-4deb-9126-3da7c8a477a3",
        "colab": {
          "base_uri": "https://localhost:8080/",
          "height": 127
        }
      },
      "source": [
        "modelo_sudeste_binario = DecisionTreeClassifier()\n",
        "modelo_sudeste_binario.fit(x_sudeste_binario_treino, y_sudeste_binario_treino)"
      ],
      "execution_count": 20,
      "outputs": [
        {
          "output_type": "execute_result",
          "data": {
            "text/plain": [
              "DecisionTreeClassifier(ccp_alpha=0.0, class_weight=None, criterion='gini',\n",
              "                       max_depth=None, max_features=None, max_leaf_nodes=None,\n",
              "                       min_impurity_decrease=0.0, min_impurity_split=None,\n",
              "                       min_samples_leaf=1, min_samples_split=2,\n",
              "                       min_weight_fraction_leaf=0.0, presort='deprecated',\n",
              "                       random_state=None, splitter='best')"
            ]
          },
          "metadata": {
            "tags": []
          },
          "execution_count": 20
        }
      ]
    },
    {
      "cell_type": "code",
      "metadata": {
        "id": "Y-KiqBnvvgWO",
        "colab_type": "code",
        "outputId": "8bd479f2-f2b5-4fb7-b0ea-ad32ed4873a5",
        "colab": {
          "base_uri": "https://localhost:8080/",
          "height": 35
        }
      },
      "source": [
        "predicao_sudeste_binario = modelo_sudeste_binario.predict(x_sudeste_binario_teste)\n",
        "predicao_sudeste_binario[:5]"
      ],
      "execution_count": 21,
      "outputs": [
        {
          "output_type": "execute_result",
          "data": {
            "text/plain": [
              "array([False,  True, False, False, False])"
            ]
          },
          "metadata": {
            "tags": []
          },
          "execution_count": 21
        }
      ]
    },
    {
      "cell_type": "code",
      "metadata": {
        "id": "yrDifbRpvneZ",
        "colab_type": "code",
        "outputId": "2571fdaa-8abb-4471-f0cf-70b5484fc56b",
        "colab": {
          "base_uri": "https://localhost:8080/",
          "height": 35
        }
      },
      "source": [
        "y_sudeste_binario_teste.to_numpy()[:5]"
      ],
      "execution_count": 22,
      "outputs": [
        {
          "output_type": "execute_result",
          "data": {
            "text/plain": [
              "array([False, False, False, False, False])"
            ]
          },
          "metadata": {
            "tags": []
          },
          "execution_count": 22
        }
      ]
    },
    {
      "cell_type": "markdown",
      "metadata": {
        "colab_type": "text",
        "id": "EZ8QZk-PjA9Y"
      },
      "source": [
        "### Testando o modelo:\n",
        "> Testing the model:"
      ]
    },
    {
      "cell_type": "code",
      "metadata": {
        "id": "jyqzksz5v3BU",
        "colab_type": "code",
        "outputId": "972612ec-28c8-4cfc-96ce-063b1958315b",
        "colab": {
          "base_uri": "https://localhost:8080/",
          "height": 237
        }
      },
      "source": [
        "metricas_diversas(predicao=predicao_sudeste_binario,\n",
        "                  y_teste=y_sudeste_binario_teste)"
      ],
      "execution_count": 23,
      "outputs": [
        {
          "output_type": "stream",
          "text": [
            "===== classification_report =====\n",
            "              precision    recall  f1-score   support\n",
            "\n",
            "       False       0.86      0.94      0.90       495\n",
            "        True       0.21      0.09      0.13        86\n",
            "\n",
            "    accuracy                           0.81       581\n",
            "   macro avg       0.53      0.52      0.51       581\n",
            "weighted avg       0.76      0.81      0.78       581\n",
            "\n",
            "===== accuracy_score =====\n",
            "0.8141135972461274\n"
          ],
          "name": "stdout"
        }
      ]
    },
    {
      "cell_type": "code",
      "metadata": {
        "id": "GaKEKZBawDhv",
        "colab_type": "code",
        "outputId": "3471a917-f91a-4681-ba83-2d115ff47d2d",
        "colab": {
          "base_uri": "https://localhost:8080/",
          "height": 54
        }
      },
      "source": [
        "from sklearn.dummy import DummyClassifier\n",
        "\n",
        "modelo_sudeste_binario_dummy = DummyClassifier()\n",
        "modelo_sudeste_binario_dummy.fit(x_sudeste_binario_treino,\n",
        "                                 y_sudeste_binario_treino)\n",
        "dummy_predicoes_sudeste_binario = modelo_sudeste_binario_dummy.predict(x_sudeste_binario_teste)"
      ],
      "execution_count": 24,
      "outputs": [
        {
          "output_type": "stream",
          "text": [
            "/usr/local/lib/python3.6/dist-packages/sklearn/dummy.py:132: FutureWarning: The default value of strategy will change from stratified to prior in 0.24.\n",
            "  \"stratified to prior in 0.24.\", FutureWarning)\n"
          ],
          "name": "stderr"
        }
      ]
    },
    {
      "cell_type": "code",
      "metadata": {
        "id": "jlTrr-FPwQZ3",
        "colab_type": "code",
        "outputId": "df0d6a69-68c5-4f63-f3e5-1c7e60c58bf3",
        "colab": {
          "base_uri": "https://localhost:8080/",
          "height": 237
        }
      },
      "source": [
        "metricas_diversas(predicao=dummy_predicoes_sudeste_binario, y_teste=y_sudeste_binario_teste)"
      ],
      "execution_count": 25,
      "outputs": [
        {
          "output_type": "stream",
          "text": [
            "===== classification_report =====\n",
            "              precision    recall  f1-score   support\n",
            "\n",
            "       False       0.86      0.85      0.86       495\n",
            "        True       0.17      0.17      0.17        86\n",
            "\n",
            "    accuracy                           0.75       581\n",
            "   macro avg       0.51      0.51      0.51       581\n",
            "weighted avg       0.76      0.75      0.75       581\n",
            "\n",
            "===== accuracy_score =====\n",
            "0.7538726333907056\n"
          ],
          "name": "stdout"
        }
      ]
    },
    {
      "cell_type": "markdown",
      "metadata": {
        "id": "6Kg_mse0Uwdy",
        "colab_type": "text"
      },
      "source": [
        "Vemos que esse modelo se mostra muito melhor do que o anterior. Vamos visualizar isso abaixo:\n",
        "> We see that this model appear be much better that the previous one. Let's visualize it bellow:"
      ]
    },
    {
      "cell_type": "code",
      "metadata": {
        "id": "mU9lqES-0rJB",
        "colab_type": "code",
        "outputId": "13ff76c5-b491-4dfb-f93d-4c1113548d7d",
        "colab": {
          "base_uri": "https://localhost:8080/",
          "height": 35
        }
      },
      "source": [
        "import statistics as stt\n",
        "\n",
        "x_sudeste_binario_teste_colunas_separadas = [x_sudeste_binario_teste[coluna].to_list() for coluna in ['cases', 'deaths']]\n",
        "\n",
        "x_sudeste_binario_teste_medias = list()\n",
        "\n",
        "for c in range(len(x_sudeste_binario_teste_colunas_separadas[0])):\n",
        "  media = stt.mean([\n",
        "    x_sudeste_binario_teste_colunas_separadas[0][c],\n",
        "    x_sudeste_binario_teste_colunas_separadas[1][c]\n",
        "  ])\n",
        "  x_sudeste_binario_teste_medias.append(media)\n",
        "\n",
        "x_sudeste_binario_teste_medias[:5]"
      ],
      "execution_count": 26,
      "outputs": [
        {
          "output_type": "execute_result",
          "data": {
            "text/plain": [
              "[0, 560, 0, 16, 45.5]"
            ]
          },
          "metadata": {
            "tags": []
          },
          "execution_count": 26
        }
      ]
    },
    {
      "cell_type": "code",
      "metadata": {
        "id": "C-2n2eTn0gkr",
        "colab_type": "code",
        "outputId": "2b0d1535-6c45-4511-b7ea-ae5da0b42eed",
        "colab": {
          "base_uri": "https://localhost:8080/",
          "height": 388
        }
      },
      "source": [
        "plt.figure(figsize=(18,6))\n",
        "plt.grid(True)\n",
        "plt.ylabel('É sudeste (0 ou 1)')\n",
        "plt.xlabel('Média entre casos e mortes')\n",
        "sns.scatterplot(x=x_sudeste_binario_teste_medias, y=predicao_sudeste_binario)\n",
        "sns.scatterplot(x=x_sudeste_binario_teste_medias, y=y_sudeste_binario_teste.values)\n",
        "plt.legend(loc='upper right', labels=['Dados reais', 'Previsões'])\n",
        "plt.show()"
      ],
      "execution_count": 27,
      "outputs": [
        {
          "output_type": "display_data",
          "data": {
            "image/png": "[encoded data removed]",
            "text/plain": [
              "<Figure size 1296x432 with 1 Axes>"
            ]
          },
          "metadata": {
            "tags": [],
            "needs_background": "light"
          }
        }
      ]
    },
    {
      "cell_type": "markdown",
      "metadata": {
        "id": "jmiG995xVWiE",
        "colab_type": "text"
      },
      "source": [
        "A função abaixo permite inserir valores como parâmetro do número de casos (`n_cases`) e o número de mortes (`n_deaths`) reportados num dia, e receber como retorno se o modelo prediz que é ou não é no sudeste.\n",
        "> The function bellow allow us to insert values as parameter of the number of cases (`n_cases`) e the number of deaths (`n_deaths`) reported in a day, and get as return if the model predict that is or is not in southeast."
      ]
    },
    {
      "cell_type": "code",
      "metadata": {
        "id": "4mvhzRS53C-Z",
        "colab_type": "code",
        "colab": {}
      },
      "source": [
        "def is_sudeste(n_cases:int, n_deaths:int):\n",
        "  data = {\n",
        "      'cases' : [n_cases],\n",
        "      'deaths' : [n_deaths]\n",
        "  }\n",
        "  data = pd.DataFrame(data)\n",
        "\n",
        "  is_sudeste = list(modelo_sudeste_binario.predict(data))[0] == True\n",
        "\n",
        "  if is_sudeste: return('Eu acho que é Sudeste!')\n",
        "  else: return('Eu acho que não é Sudeste!')"
      ],
      "execution_count": 0,
      "outputs": []
    },
    {
      "cell_type": "code",
      "metadata": {
        "id": "FF7qzbm97UPo",
        "colab_type": "code",
        "outputId": "1bee7285-9ef3-47b6-c180-97926160ca79",
        "colab": {
          "base_uri": "https://localhost:8080/",
          "height": 35
        }
      },
      "source": [
        "print(\n",
        "    is_sudeste(\n",
        "        n_cases= 1381,\n",
        "        n_deaths= 42\n",
        "    )\n",
        ")"
      ],
      "execution_count": 29,
      "outputs": [
        {
          "output_type": "stream",
          "text": [
            "Eu acho que é Sudeste!\n"
          ],
          "name": "stdout"
        }
      ]
    },
    {
      "cell_type": "code",
      "metadata": {
        "id": "hlhbRixU9f52",
        "colab_type": "code",
        "colab": {}
      },
      "source": [
        ""
      ],
      "execution_count": 0,
      "outputs": []
    }
  ]
}